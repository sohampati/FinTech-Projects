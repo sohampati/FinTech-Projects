{
  "nbformat": 4,
  "nbformat_minor": 0,
  "metadata": {
    "colab": {
      "provenance": []
    },
    "kernelspec": {
      "name": "python3",
      "display_name": "Python 3"
    },
    "language_info": {
      "name": "python"
    }
  },
  "cells": [
    {
      "cell_type": "code",
      "execution_count": null,
      "metadata": {
        "id": "OVacVQ6cHJuC"
      },
      "outputs": [],
      "source": [
        "import yfinance as yf\n",
        "import numpy as np\n",
        "import math"
      ]
    },
    {
      "cell_type": "code",
      "source": [
        "symbol = yf.Ticker('NVDA')\n",
        "position = 100\n",
        "horizon = 10\n",
        "e_value = math.e\n",
        "\n",
        "data = symbol.history(period='1y') # gives data for nvidia for 1 year\n",
        "#print(data)\n",
        "log_rets = np.log(data['Close'] / data['Close'].shift(1)) #log return --> ln(P[t] / P[t-1])\n",
        "log_rets = log_rets.dropna()\n",
        "log_rets = log_rets.reset_index(drop=True)\n",
        "print(len(log_rets))\n"
      ],
      "metadata": {
        "id": "c4dZcP3iIwCt",
        "colab": {
          "base_uri": "https://localhost:8080/"
        },
        "outputId": "6545a487-7569-4c2e-ab73-606f351ddec6"
      },
      "execution_count": null,
      "outputs": [
        {
          "output_type": "stream",
          "name": "stdout",
          "text": [
            "249\n"
          ]
        }
      ]
    },
    {
      "cell_type": "code",
      "source": [
        "#HISTORICAL SIMULATION VaR\n",
        "sims = 100\n",
        "\n",
        "n = len(log_rets.values)\n",
        "\n",
        "assert horizon < n, \"Horizon must be less than length of data\"\n",
        "pnl = {}\n",
        "for i in range(sims):\n",
        "\n",
        "  index = np.random.randint(0, n - horizon)\n",
        "  #print(index)\n",
        "  while index in pnl:\n",
        "    index = np.random.randint(0, n - horizon)\n",
        "\n",
        "  block_sum = np.sum(log_rets.values[index:index + horizon])\n",
        "  #print(block_sum)\n",
        "  pnl[index] = block_sum\n",
        "  #R10day for each index\n",
        "\n",
        "\n",
        "todays_price = data['Close'].values[-1]\n",
        "print(todays_price)\n",
        "#pnl = s0(e^r10day - 1) * 100\n",
        "ok = {}\n",
        "losses = {}\n",
        "for index in pnl:\n",
        "  ok[index] = todays_price * (math.pow(e_value, pnl[index]) - 1)\n",
        "\n",
        "  ok[index] *= position\n",
        "  losses[index] = -1 * ok[index]\n",
        "\n",
        "sorted(losses.items(), key=lambda x: x[1])\n",
        "#print(losses)\n",
        "print(np.percentile(list(losses.values()), 95))\n",
        "\n",
        "var_95 = abs(np.percentile(list(losses.values()), 5))\n",
        "print(\"95% 10-day VaR:\", var_95) #how much money you expect to lose max with a 95% confidence given 1y historical data\n",
        "\n",
        "\n"
      ],
      "metadata": {
        "colab": {
          "base_uri": "https://localhost:8080/"
        },
        "id": "A4W1kI6avY-R",
        "outputId": "a6e5296c-dcfa-41f4-b6a0-d40ebfae7f2f"
      },
      "execution_count": null,
      "outputs": [
        {
          "output_type": "stream",
          "name": "stdout",
          "text": [
            "182.05999755859375\n",
            "3085.208546134016\n",
            "95% 10-day VaR: 3158.800320900338\n"
          ]
        }
      ]
    },
    {
      "cell_type": "code",
      "source": [
        "#Monte Carlo VaR\n",
        "\n",
        "\n",
        "\n"
      ],
      "metadata": {
        "id": "bWY4k3JxecGU"
      },
      "execution_count": null,
      "outputs": []
    }
  ]
}